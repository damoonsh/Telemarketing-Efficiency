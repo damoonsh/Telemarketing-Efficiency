{
 "cells": [
  {
   "cell_type": "code",
   "execution_count": 2,
   "metadata": {},
   "outputs": [],
   "source": [
    "import pandas as pd\n",
    "\n",
    "bb = pd.read_csv('./balanced_bank.csv')\n",
    "pb = pd.read_csv('./processed_bank.csv')"
   ]
  },
  {
   "cell_type": "markdown",
   "metadata": {},
   "source": [
    "# Data Preprocessing\n",
    "\n",
    "- None of the dataframes have any missing values.\n",
    "- [job, marital, education, default, housing, loan, contact, month, day_of_week, poutcome, y] are the categorical values within the balanced_bank.csv\n",
    "    - y: Decides if the call has been successfull or not. Hence, yes is equivalent to 1 and no to 0.\n",
    "    - marital: ['single', 'married', 'divorced', 'unknown'] are the unique values of this column. It might not make sense to just map the values for some models. Hence, mapping might be helpful for Decesion Tree (like) models but for Neural Network embedding layers might work better.\n",
    "    - education: ['university.degree', 'professional.course', 'high.school', 'unknown', 'basic.9y', 'basic.4y', 'basic.6y', 'illiterate'] are the unique values.\n",
    "    - default\n",
    "    - housing\n",
    "- Processed data has no categorical variables and they are all numerical.\n",
    "- Both datasets do not contain any missing values."
   ]
  },
  {
   "cell_type": "code",
   "execution_count": null,
   "metadata": {},
   "outputs": [],
   "source": []
  }
 ],
 "metadata": {
  "kernelspec": {
   "display_name": "Python 3.8.5 64-bit ('base': conda)",
   "name": "python38564bitbasecondac13e0e8d65af446181607e14612b885e"
  },
  "language_info": {
   "codemirror_mode": {
    "name": "ipython",
    "version": 3
   },
   "file_extension": ".py",
   "mimetype": "text/x-python",
   "name": "python",
   "nbconvert_exporter": "python",
   "pygments_lexer": "ipython3",
   "version": "3.8.5"
  },
  "metadata": {
   "interpreter": {
    "hash": "b5216ab7d31a57265576ff0e4a97cd6564e0d81bd4e5fea00def4948d75b5362"
   }
  }
 },
 "nbformat": 4,
 "nbformat_minor": 4
}